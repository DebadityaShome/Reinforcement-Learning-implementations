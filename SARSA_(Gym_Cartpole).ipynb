{
  "nbformat": 4,
  "nbformat_minor": 5,
  "metadata": {
    "kernelspec": {
      "display_name": "tensorflow",
      "language": "python",
      "name": "tensorflow"
    },
    "language_info": {
      "codemirror_mode": {
        "name": "ipython",
        "version": 3
      },
      "file_extension": ".py",
      "mimetype": "text/x-python",
      "name": "python",
      "nbconvert_exporter": "python",
      "pygments_lexer": "ipython3",
      "version": "3.8.8"
    },
    "colab": {
      "name": "SARSA - (Gym: Cartpole).ipynb",
      "provenance": [],
      "include_colab_link": true
    }
  },
  "cells": [
    {
      "cell_type": "markdown",
      "metadata": {
        "id": "view-in-github",
        "colab_type": "text"
      },
      "source": [
        "<a href=\"https://colab.research.google.com/github/DebadityaShome/Reinforcement-Learning-implementations/blob/main/SARSA_(Gym_Cartpole).ipynb\" target=\"_parent\"><img src=\"https://colab.research.google.com/assets/colab-badge.svg\" alt=\"Open In Colab\"/></a>"
      ]
    },
    {
      "cell_type": "code",
      "metadata": {
        "id": "aT1zQ75Ghgmi"
      },
      "source": [
        "%%capture\n",
        "!apt update\n",
        "# install required system dependencies\n",
        "!apt-get install -y xvfb x11-utils\n",
        "\n",
        "# install required python dependencies (might need to install additional gym extras depending)\n",
        "!pip install gym[box2d]==0.17.* pyvirtualdisplay==0.2.* PyOpenGL==3.1.* PyOpenGL-accelerate==3.1.*\n",
        "!pip install pyvirtualdisplay"
      ],
      "id": "aT1zQ75Ghgmi",
      "execution_count": 1,
      "outputs": []
    },
    {
      "cell_type": "code",
      "metadata": {
        "colab": {
          "base_uri": "https://localhost:8080/"
        },
        "id": "TkHrCMYSje84",
        "outputId": "e8d1db0e-1c7d-4b54-f24d-2fcaa8475925"
      },
      "source": [
        "import pyvirtualdisplay\n",
        "\n",
        "d = pyvirtualdisplay.Display()\n",
        "d.start() # Start Xvfb and set \"DISPLAY\" environment properly."
      ],
      "id": "TkHrCMYSje84",
      "execution_count": 2,
      "outputs": [
        {
          "output_type": "execute_result",
          "data": {
            "text/plain": [
              "<Display cmd_param=['Xvfb', '-br', '-nolisten', 'tcp', '-screen', '0', '1024x768x24', ':1001'] cmd=['Xvfb', '-br', '-nolisten', 'tcp', '-screen', '0', '1024x768x24', ':1001'] oserror=None return_code=None stdout=\"None\" stderr=\"None\" timeout_happened=False>"
            ]
          },
          "metadata": {
            "tags": []
          },
          "execution_count": 2
        }
      ]
    },
    {
      "cell_type": "code",
      "metadata": {
        "colab": {
          "base_uri": "https://localhost:8080/"
        },
        "id": "HE_3Cjk-jf1U",
        "outputId": "08159fe4-b98c-4cf5-81b9-560bdcc2127a"
      },
      "source": [
        "import gym\n",
        "from IPython import display\n",
        "from pyvirtualdisplay import Display\n",
        "import matplotlib.pyplot as plt\n",
        "\n",
        "d = Display()\n",
        "d.start()"
      ],
      "id": "HE_3Cjk-jf1U",
      "execution_count": 3,
      "outputs": [
        {
          "output_type": "execute_result",
          "data": {
            "text/plain": [
              "<Display cmd_param=['Xvfb', '-br', '-nolisten', 'tcp', '-screen', '0', '1024x768x24', ':1005'] cmd=['Xvfb', '-br', '-nolisten', 'tcp', '-screen', '0', '1024x768x24', ':1005'] oserror=None return_code=None stdout=\"None\" stderr=\"None\" timeout_happened=False>"
            ]
          },
          "metadata": {
            "tags": []
          },
          "execution_count": 3
        }
      ]
    },
    {
      "cell_type": "markdown",
      "metadata": {
        "id": "4569f604-b413-4248-99e2-2a46ef0f9b59"
      },
      "source": [
        "## SARSA algorithm\n",
        "\n",
        "Initialize alpha (learning rate)\n",
        "\n",
        "Initialize Q(s, a)\n",
        "\n",
        "Initalize S\n",
        "\n",
        "Choose A(S) using epsilon greedy from Q\n",
        "\n",
        "Loop:\n",
        "\n",
        "    * Take action A, get reward S'\n",
        "    * Choose A'(S') using epsilon greedy from Q\n",
        "    * Q(s, a) -> Q(s, a) + alpha(R + gamma*Q(s', a') - Q(s, a))\n",
        "    * S -> S', A -> A'"
      ],
      "id": "4569f604-b413-4248-99e2-2a46ef0f9b59"
    },
    {
      "cell_type": "code",
      "metadata": {
        "id": "1d8d854e-b616-457d-bbf7-dc503e4789c8"
      },
      "source": [
        "import numpy as np\n",
        "import matplotlib.pyplot as plt\n",
        "import gym"
      ],
      "id": "1d8d854e-b616-457d-bbf7-dc503e4789c8",
      "execution_count": 4,
      "outputs": []
    },
    {
      "cell_type": "code",
      "metadata": {
        "id": "9cec099a-af35-46f9-b168-ce213bf546f8"
      },
      "source": [
        "def maxAction(Q, state):\n",
        "    values = np.array([Q[state, a] for a in range(2)])\n",
        "    action = np.argmax(values)\n",
        "    return action"
      ],
      "id": "9cec099a-af35-46f9-b168-ce213bf546f8",
      "execution_count": 5,
      "outputs": []
    },
    {
      "cell_type": "code",
      "metadata": {
        "id": "47b52ef2-d899-4264-a6da-fce6779ad7dd"
      },
      "source": [
        "poleThetaSpace = np.linspace(-0.20943951, 0.20943951, 10)\n",
        "poleThetaVelSpace = np.linspace(-4, 4, 10)\n",
        "cartPosSpace = np.linspace(-2.4, 2.4, 10)\n",
        "cartVelSpace = np.linspace(-4, 4, 10)"
      ],
      "id": "47b52ef2-d899-4264-a6da-fce6779ad7dd",
      "execution_count": 6,
      "outputs": []
    },
    {
      "cell_type": "code",
      "metadata": {
        "id": "f99faa4f-eb07-4afc-b3e8-2063b6d352ff"
      },
      "source": [
        "def getState(observation):\n",
        "    cartX, cartXdot, cartTheta, cartThetadot = observation\n",
        "    cartX = int(np.digitize(cartX, cartPosSpace))\n",
        "    cartXdot = int(np.digitize(cartXdot, cartVelSpace))\n",
        "    cartTheta = int(np.digitize(cartTheta, poleThetaSpace))\n",
        "    cartThetadot = int(np.digitize(cartThetadot, poleThetaVelSpace))\n",
        "    \n",
        "    return (cartX, cartXdot, cartTheta, cartThetadot)"
      ],
      "id": "f99faa4f-eb07-4afc-b3e8-2063b6d352ff",
      "execution_count": 7,
      "outputs": []
    },
    {
      "cell_type": "code",
      "metadata": {
        "id": "59d1a3af-b057-4d8a-a3af-783a752e4c49"
      },
      "source": [
        "env = gym.make('CartPole-v0')\n",
        "\n",
        "ALPHA = 0.1\n",
        "GAMMA = 0.9\n",
        "EPS = 1.0\n",
        "\n",
        "states = []\n",
        "for i in range(len(cartPosSpace)+1):\n",
        "    for j in range(len(cartVelSpace)+1):\n",
        "        for k in range(len(poleThetaSpace)+1):\n",
        "            for l in range(len(poleThetaVelSpace)+1):\n",
        "                states.append((i, j, k, l))"
      ],
      "id": "59d1a3af-b057-4d8a-a3af-783a752e4c49",
      "execution_count": 8,
      "outputs": []
    },
    {
      "cell_type": "code",
      "metadata": {
        "id": "ed4c15ba-6ec8-4272-a2c3-a7a57f5e1ea3"
      },
      "source": [
        "Q = {}\n",
        "for s in states:\n",
        "    for a in range(2):\n",
        "        Q[s, a] = 0"
      ],
      "id": "ed4c15ba-6ec8-4272-a2c3-a7a57f5e1ea3",
      "execution_count": 9,
      "outputs": []
    },
    {
      "cell_type": "code",
      "metadata": {
        "colab": {
          "base_uri": "https://localhost:8080/",
          "height": 248
        },
        "id": "21ad3db3-90cd-4fb0-bd03-fa848f4e6cca",
        "outputId": "4797967a-2ca7-4a36-b72e-a4752ac6d28f"
      },
      "source": [
        "numGames = 500\n",
        "totalRewards = np.zeros(numGames)\n",
        "\n",
        "for i in range(numGames):\n",
        "    if i % 5000 == 0:\n",
        "        print('Starting game', i)\n",
        "    observation = env.reset()\n",
        "    img = plt.imshow(env.render('rgb_array'))\n",
        "    s = getState(observation)\n",
        "    rand = np.random.random()\n",
        "    a = maxAction(Q, s) if rand < (1 - EPS) else env.action_space.sample()\n",
        "    done = False\n",
        "    epRewards = 0\n",
        "    while not done:\n",
        "        observation_, reward, done, info = env.step(a)\n",
        "        display.clear_output(wait=True)\n",
        "        img.set_data(env.render('rgb_array'))\n",
        "        plt.axis('off')\n",
        "        display.display(plt.gcf())\n",
        "        s_ = getState(observation_)\n",
        "        rand = np.random.random()\n",
        "        a_ = maxAction(Q, s_) if rand < (1 - EPS) else env.action_space.sample()\n",
        "        epRewards += reward\n",
        "        Q[s, a] = Q[s, a] + ALPHA*(reward + GAMMA*Q[s_, a_] - Q[s, a])\n",
        "        s, a = s_, a_\n",
        "    env.reset()\n",
        "    EPS -= 2/(numGames) if EPS > 0 else 0\n",
        "    totalRewards[i] = epRewards"
      ],
      "id": "21ad3db3-90cd-4fb0-bd03-fa848f4e6cca",
      "execution_count": null,
      "outputs": [
        {
          "output_type": "display_data",
          "data": {
            "image/png": "[encoded data removed]",
            "text/plain": [
              "<Figure size 432x288 with 1 Axes>"
            ]
          },
          "metadata": {
            "tags": []
          }
        }
      ]
    },
    {
      "cell_type": "code",
      "metadata": {
        "id": "6477bda8-ee2e-432d-8338-77a693b78a74"
      },
      "source": [
        "plt.plot(totalRewards, 'b--')\n",
        "plt.show()"
      ],
      "id": "6477bda8-ee2e-432d-8338-77a693b78a74",
      "execution_count": null,
      "outputs": []
    },
    {
      "cell_type": "code",
      "metadata": {
        "id": "5CETVMRZmtWs"
      },
      "source": [
        ""
      ],
      "id": "5CETVMRZmtWs",
      "execution_count": null,
      "outputs": []
    }
  ]
}